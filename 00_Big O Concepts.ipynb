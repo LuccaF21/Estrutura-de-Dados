{
 "cells": [
  {
   "cell_type": "markdown",
   "id": "f7739494",
   "metadata": {},
   "source": [
    "### Big O Basic Concepts:"
   ]
  },
  {
   "cell_type": "markdown",
   "id": "6fc3f3b0",
   "metadata": {},
   "source": [
    "##### Omega (Ω) – Best Case\n",
    "\n",
    "- What it means: Omega (Ω) describes the best-case scenario for an algorithm.\n",
    "\n",
    "- In simple terms: It tells you the fastest an algorithm can run in the best circumstances.\n",
    "\n",
    "##### Theta (Θ) – Average Case\n",
    "\n",
    "- In simple terms: It tells you what to generally expect in terms of time complexity.\n",
    "\n",
    "##### Big O (O) - Worst Case\n",
    "\n",
    "- What it means: Big O (O) describes the worst-case scenario for an algorithm.\n",
    "\n",
    "- In simple terms: It tells you the slowest an algorithm can run in the worst circumstances."
   ]
  },
  {
   "cell_type": "markdown",
   "id": "4132e37e",
   "metadata": {},
   "source": [
    "#### O(n)\n",
    "- O(n): Linear Time\n",
    "- Directly proportional to the data set size.\n",
    "- Example: Looping through an array."
   ]
  },
  {
   "cell_type": "code",
   "execution_count": null,
   "id": "37786eef",
   "metadata": {},
   "outputs": [],
   "source": [
    "def print_items(n):\n",
    "    for i in range(n):\n",
    "        print(i)"
   ]
  },
  {
   "cell_type": "code",
   "execution_count": null,
   "id": "f1b43a23",
   "metadata": {},
   "outputs": [],
   "source": [
    "print_items(10)"
   ]
  },
  {
   "cell_type": "markdown",
   "id": "42ffa79a",
   "metadata": {},
   "source": [
    "#### O(n2)\n",
    "- O(n2): Polynomial Time\n",
    "- Nested loops for each power of n.\n",
    "- Example: Bubble sort (O(n2))."
   ]
  },
  {
   "cell_type": "code",
   "execution_count": null,
   "id": "586626aa",
   "metadata": {},
   "outputs": [],
   "source": [
    "def print_items(n):\n",
    "    for i in range(n):\n",
    "        for j in range(n):\n",
    "            print(i,j)"
   ]
  },
  {
   "cell_type": "code",
   "execution_count": null,
   "id": "3a655c40",
   "metadata": {},
   "outputs": [],
   "source": [
    "print_items(4)"
   ]
  },
  {
   "cell_type": "markdown",
   "id": "2573001f",
   "metadata": {},
   "source": [
    "#### O(1)\n",
    "- O(1): Constant Time\n",
    "- Doesn't depend on the size of the data set.\n",
    "- Example: Accessing an array element by its index."
   ]
  },
  {
   "cell_type": "code",
   "execution_count": null,
   "id": "6432aaeb",
   "metadata": {},
   "outputs": [],
   "source": [
    "def add_items(n):\n",
    "    return n+n"
   ]
  },
  {
   "cell_type": "code",
   "execution_count": null,
   "id": "2d710025",
   "metadata": {},
   "outputs": [],
   "source": [
    "add_items(20)"
   ]
  },
  {
   "cell_type": "markdown",
   "id": "76d765ca",
   "metadata": {},
   "source": [
    "#### O(log n)\n",
    "- O(log n): Logarithmic Time\n",
    "- Splits the data in each step (divide and conquer).\n",
    "- Example: Binary search."
   ]
  },
  {
   "cell_type": "markdown",
   "id": "a9323a1d",
   "metadata": {},
   "source": [
    "#### O(n log n)\n",
    "- O(n log n): Linearithmic Time\n",
    "- Splits and sorts or searches data.\n",
    "- Example: Merge sort, quick sort."
   ]
  },
  {
   "cell_type": "markdown",
   "id": "7b01fcf9",
   "metadata": {},
   "source": [
    "#### Other Concepts:\n",
    "#### Drop Non-Dominant Terms\n",
    "- In O(n2 + n), focus on O(n2) as it will dominate for large n.\n",
    "#### Drop Constants\n",
    "- O(2n) simplifies to O(n)."
   ]
  },
  {
   "cell_type": "code",
   "execution_count": null,
   "id": "dce6ac76",
   "metadata": {},
   "outputs": [],
   "source": [
    "def print_items(a,b):\n",
    "    for i in range(a):\n",
    "        print(i)\n",
    "        \n",
    "    for i in range(b):\n",
    "        print(i)\n",
    "        \n",
    "# This is going to be O(a+b), not O(2n)"
   ]
  },
  {
   "cell_type": "code",
   "execution_count": null,
   "id": "73bc116b",
   "metadata": {},
   "outputs": [],
   "source": [
    "print_items(2,4)"
   ]
  },
  {
   "cell_type": "code",
   "execution_count": null,
   "id": "e5931658",
   "metadata": {},
   "outputs": [],
   "source": [
    "def print_items(a,b):\n",
    "    for i in range(a):\n",
    "        for j in range(b):\n",
    "            print(i,j)\n",
    "        \n",
    "# This is going to be O(a*b), not O(n²)"
   ]
  },
  {
   "cell_type": "code",
   "execution_count": null,
   "id": "827e715c",
   "metadata": {},
   "outputs": [],
   "source": [
    "print_items(2,4)"
   ]
  }
 ],
 "metadata": {
  "kernelspec": {
   "display_name": "Python 3 (ipykernel)",
   "language": "python",
   "name": "python3"
  },
  "language_info": {
   "codemirror_mode": {
    "name": "ipython",
    "version": 3
   },
   "file_extension": ".py",
   "mimetype": "text/x-python",
   "name": "python",
   "nbconvert_exporter": "python",
   "pygments_lexer": "ipython3",
   "version": "3.11.5"
  }
 },
 "nbformat": 4,
 "nbformat_minor": 5
}
