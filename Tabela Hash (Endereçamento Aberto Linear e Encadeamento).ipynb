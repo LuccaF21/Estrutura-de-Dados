{
 "cells": [
  {
   "cell_type": "code",
   "execution_count": null,
   "id": "7d9d9114",
   "metadata": {},
   "outputs": [],
   "source": [
    "# Define a função hash usando MOD 11\n",
    "def hash_function(key, table_size):\n",
    "    return key % table_size\n",
    "\n",
    "# Inicializa a tabela hash com None (vazia)\n",
    "def initialize_table(size):\n",
    "    return [None] * size\n",
    "\n",
    "# Insere um elemento na tabela hash usando endereçamento aberto linear\n",
    "def insert_into_table(table, key, value):\n",
    "    size = len(table)\n",
    "    index = hash_function(key, size)\n",
    "    original_index = index\n",
    "\n",
    "    # Resolução de colisão por endereçamento aberto linear\n",
    "    while table[index] is not None:\n",
    "        index = (index + 1) % size\n",
    "        if index == original_index:\n",
    "            raise Exception(\"Tabela hash cheia, não é possível inserir mais elementos.\")\n",
    "\n",
    "    table[index] = (key, value)"
   ]
  },
  {
   "cell_type": "code",
   "execution_count": null,
   "id": "3caeffdb",
   "metadata": {},
   "outputs": [],
   "source": [
    "# Tabela hash com tamanho 11 (MOD 11)\n",
    "table_size = 11\n",
    "hash_table = initialize_table(table_size)\n",
    "\n",
    "# Palavras a serem armazenadas e seus códigos\n",
    "word = \"prova substitutiva\"\n",
    "char_codes = {\n",
    "    'p': 112, 'r': 114, 'o': 111, 'v': 118, 'a': 97,\n",
    "    ' ': 32, 's': 115, 'u': 117, 'b': 98, 't': 116, 'i': 105\n",
    "}"
   ]
  },
  {
   "cell_type": "code",
   "execution_count": null,
   "id": "bd251179",
   "metadata": {},
   "outputs": [],
   "source": [
    "# Insere cada letra e seu código na tabela hash\n",
    "for char in word:\n",
    "    code = char_codes[char]\n",
    "    insert_into_table(hash_table, code, char)"
   ]
  },
  {
   "cell_type": "code",
   "execution_count": null,
   "id": "b1bf3d0a",
   "metadata": {},
   "outputs": [],
   "source": [
    "# Imprime a tabela hash\n",
    "for index, item in enumerate(hash_table):\n",
    "    if item is not None:\n",
    "        print(f\"Índice {index}: Chave {item[0]} -> Valor '{item[1]}'\")\n",
    "    else:\n",
    "        print(f\"Índice {index}: Vazio\")"
   ]
  },
  {
   "cell_type": "code",
   "execution_count": 1,
   "id": "beb8ebb8",
   "metadata": {},
   "outputs": [],
   "source": [
    "# Define a função hash usando MOD 11\n",
    "def hash_function(key, table_size):\n",
    "    return key % table_size\n",
    "\n",
    "# Inicializa a tabela hash com listas vazias para encadeamento\n",
    "def initialize_table(size):\n",
    "    return [[] for _ in range(size)]\n",
    "\n",
    "# Insere um elemento na tabela hash usando encadeamento\n",
    "def insert_into_table(table, key, value):\n",
    "    index = hash_function(key, len(table))\n",
    "    # Adiciona o par chave-valor à lista correspondente ao índice\n",
    "    table[index].append((key, value))"
   ]
  },
  {
   "cell_type": "code",
   "execution_count": 2,
   "id": "daf86db4",
   "metadata": {},
   "outputs": [],
   "source": [
    "# Tabela hash com tamanho 11 (MOD 11)\n",
    "table_size = 18\n",
    "hash_table = initialize_table(table_size)\n",
    "\n",
    "# Palavras a serem armazenadas e seus códigos\n",
    "word = \"prova substitutiva\"\n",
    "char_codes = {\n",
    "    'p': 112, 'r': 114, 'o': 111, 'v': 118, 'a': 97,\n",
    "    ' ': 32, 's': 115, 'u': 117, 'b': 98, 't': 116, 'i': 105\n",
    "}"
   ]
  },
  {
   "cell_type": "code",
   "execution_count": 3,
   "id": "6e8ff48c",
   "metadata": {},
   "outputs": [],
   "source": [
    "# Insere cada letra e seu código na tabela hash\n",
    "for char in word:\n",
    "    code = char_codes[char]\n",
    "    insert_into_table(hash_table, code, char)"
   ]
  },
  {
   "cell_type": "code",
   "execution_count": 4,
   "id": "ad0e0c13",
   "metadata": {},
   "outputs": [
    {
     "name": "stdout",
     "output_type": "stream",
     "text": [
      "Índice 0: []\n",
      "Índice 1: []\n",
      "Índice 2: []\n",
      "Índice 3: [(111, 'o')]\n",
      "Índice 4: [(112, 'p')]\n",
      "Índice 5: []\n",
      "Índice 6: [(114, 'r')]\n",
      "Índice 7: [(97, 'a'), (115, 's'), (115, 's'), (97, 'a')]\n",
      "Índice 8: [(98, 'b'), (116, 't'), (116, 't'), (116, 't')]\n",
      "Índice 9: [(117, 'u'), (117, 'u')]\n",
      "Índice 10: [(118, 'v'), (118, 'v')]\n",
      "Índice 11: []\n",
      "Índice 12: []\n",
      "Índice 13: []\n",
      "Índice 14: [(32, ' ')]\n",
      "Índice 15: [(105, 'i'), (105, 'i')]\n",
      "Índice 16: []\n",
      "Índice 17: []\n"
     ]
    }
   ],
   "source": [
    "# Exibindo o conteúdo da tabela hash\n",
    "for index, bucket in enumerate(hash_table):\n",
    "    print(f\"Índice {index}: {bucket}\")"
   ]
  },
  {
   "cell_type": "code",
   "execution_count": null,
   "id": "b1e11d77",
   "metadata": {},
   "outputs": [],
   "source": []
  }
 ],
 "metadata": {
  "kernelspec": {
   "display_name": "Python 3 (ipykernel)",
   "language": "python",
   "name": "python3"
  },
  "language_info": {
   "codemirror_mode": {
    "name": "ipython",
    "version": 3
   },
   "file_extension": ".py",
   "mimetype": "text/x-python",
   "name": "python",
   "nbconvert_exporter": "python",
   "pygments_lexer": "ipython3",
   "version": "3.11.5"
  }
 },
 "nbformat": 4,
 "nbformat_minor": 5
}
