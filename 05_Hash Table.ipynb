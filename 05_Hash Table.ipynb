{
 "cells": [
  {
   "cell_type": "markdown",
   "id": "847c93a4-ae88-42b3-b0d3-03ff26012961",
   "metadata": {},
   "source": [
    "## Hash Table"
   ]
  },
  {
   "cell_type": "markdown",
   "id": "dc99fab5-fa2d-466a-87d2-96751adf49f6",
   "metadata": {},
   "source": [
    "Hash functions are:\n",
    "1. One way - Input generates and output, not the opposite.\n",
    "2. Deterministic - When input a key, we expect to return an index.\n",
    "\n",
    "Python already includes hash tables, which are Dictionaries."
   ]
  },
  {
   "cell_type": "code",
   "execution_count": 1,
   "id": "9b9612bf-c784-44f9-b7f0-b9b0d5857428",
   "metadata": {},
   "outputs": [],
   "source": [
    "#Constructor for HashTable\n",
    "class HashTable:\n",
    "    def __init__(self, size = 7):\n",
    "        self.data_map = [None] * size\n",
    "\n",
    "    def __hash(self, key):\n",
    "        my_hash = 0\n",
    "        for letter in key:\n",
    "            my_hash = (my_hash + ord(letter) * 23) % len(self.data_map)\n",
    "        return my_hash\n",
    "\n",
    "    def print_table(self):\n",
    "        for i, val in enumerate(self.data_map):\n",
    "            print(i, \": \", val)\n",
    "\n",
    "    def set_item(self, key, value):\n",
    "        index = self.__hash(key)\n",
    "        if self.data_map[index] == None:\n",
    "            self.data_map[index] = []\n",
    "        self.data_map[index].append([key, value])\n",
    "\n",
    "    def get_item(self, key):\n",
    "        index = self.__hash(key) #The idea is get the index this key is storaged.\n",
    "        if self.data_map[index] is not None:\n",
    "            for i in range(len(self.data_map[index])):\n",
    "                if self.data_map[index][i][0] == key: #Compare if the key matches.\n",
    "                    return self.data_map[index][i][1] #Return the VALUE, not the key.\n",
    "        return None\n",
    "\n",
    "    def keys(self):\n",
    "        all_keys = []\n",
    "        for i in range(len(self.data_map)):\n",
    "            if self.data_map[i] is not None:\n",
    "                for j in range(len(self.data_map[i])):\n",
    "                    all_keys.append(self.data_map[i][j][0])\n",
    "        return all_keys"
   ]
  },
  {
   "cell_type": "code",
   "execution_count": 2,
   "id": "bb41a74c-700a-4979-ae92-a8828c802a97",
   "metadata": {},
   "outputs": [
    {
     "name": "stdout",
     "output_type": "stream",
     "text": [
      "0 :  None\n",
      "1 :  None\n",
      "2 :  None\n",
      "3 :  None\n",
      "4 :  None\n",
      "5 :  None\n",
      "6 :  None\n"
     ]
    }
   ],
   "source": [
    "my_hash_table = HashTable()\n",
    "my_hash_table.print_table()"
   ]
  },
  {
   "cell_type": "code",
   "execution_count": 3,
   "id": "170ce34e-a6ce-4b25-b6e6-0f49a39aff85",
   "metadata": {},
   "outputs": [
    {
     "name": "stdout",
     "output_type": "stream",
     "text": [
      "0 :  None\n",
      "1 :  None\n",
      "2 :  None\n",
      "3 :  None\n",
      "4 :  [['bolts', 1400], ['washers', 50]]\n",
      "5 :  None\n",
      "6 :  [['lumber', 70]]\n"
     ]
    }
   ],
   "source": [
    "my_hash_table.set_item('bolts', 1400)\n",
    "my_hash_table.set_item('washers', 50)\n",
    "my_hash_table.set_item('lumber', 70)\n",
    "my_hash_table.print_table()"
   ]
  },
  {
   "cell_type": "code",
   "execution_count": 4,
   "id": "b8a18525-5a09-4a0a-91a4-784768b853cd",
   "metadata": {},
   "outputs": [
    {
     "name": "stdout",
     "output_type": "stream",
     "text": [
      "1400\n"
     ]
    }
   ],
   "source": [
    "print(my_hash_table.get_item('bolts'))"
   ]
  },
  {
   "cell_type": "code",
   "execution_count": 5,
   "id": "1af6f52e-6bdc-4dbf-95ae-890c3113957d",
   "metadata": {},
   "outputs": [
    {
     "name": "stdout",
     "output_type": "stream",
     "text": [
      "50\n"
     ]
    }
   ],
   "source": [
    "print(my_hash_table.get_item('washers'))"
   ]
  },
  {
   "cell_type": "code",
   "execution_count": 6,
   "id": "795a40c1-4a51-41aa-8149-3ad43381a883",
   "metadata": {},
   "outputs": [
    {
     "name": "stdout",
     "output_type": "stream",
     "text": [
      "70\n"
     ]
    }
   ],
   "source": [
    "print(my_hash_table.get_item('lumber'))"
   ]
  },
  {
   "cell_type": "code",
   "execution_count": 7,
   "id": "27221166-0646-4aa4-a97a-2ec51c8eb550",
   "metadata": {},
   "outputs": [
    {
     "name": "stdout",
     "output_type": "stream",
     "text": [
      "['bolts', 'washers', 'lumber']\n"
     ]
    }
   ],
   "source": [
    "print(my_hash_table.keys())"
   ]
  },
  {
   "cell_type": "code",
   "execution_count": 15,
   "id": "bb4ec10a-5a60-4637-9960-791a4417d745",
   "metadata": {},
   "outputs": [
    {
     "name": "stdout",
     "output_type": "stream",
     "text": [
      "{1: True, 3: True, 5: True}\n",
      "True\n"
     ]
    }
   ],
   "source": [
    "def item_in_common(list1, list2):\n",
    "    my_dict = {}\n",
    "    for i in list1:\n",
    "        my_dict[i] = True\n",
    "\n",
    "    for j in list2:\n",
    "        if j in my_dict:\n",
    "            print(my_dict)\n",
    "            return True\n",
    "\n",
    "    print(my_dict)\n",
    "    return False\n",
    "    \n",
    "\n",
    "list1 = [1,3,5]\n",
    "list2 = [2,4,5]\n",
    "\n",
    "print(item_in_common(list1, list2))"
   ]
  },
  {
   "cell_type": "code",
   "execution_count": null,
   "id": "29589060-f636-45a6-942f-5da738137a2c",
   "metadata": {},
   "outputs": [],
   "source": []
  }
 ],
 "metadata": {
  "kernelspec": {
   "display_name": "Python 3 (ipykernel)",
   "language": "python",
   "name": "python3"
  },
  "language_info": {
   "codemirror_mode": {
    "name": "ipython",
    "version": 3
   },
   "file_extension": ".py",
   "mimetype": "text/x-python",
   "name": "python",
   "nbconvert_exporter": "python",
   "pygments_lexer": "ipython3",
   "version": "3.12.4"
  }
 },
 "nbformat": 4,
 "nbformat_minor": 5
}
