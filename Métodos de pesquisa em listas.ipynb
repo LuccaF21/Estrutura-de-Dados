{
 "cells": [
  {
   "cell_type": "markdown",
   "id": "ba7ce0b3",
   "metadata": {},
   "source": [
    "## Métodos de pesquisa em listas"
   ]
  },
  {
   "cell_type": "markdown",
   "id": "42ed440b",
   "metadata": {},
   "source": [
    "### Pesquisa Sequencial:"
   ]
  },
  {
   "cell_type": "markdown",
   "id": "0a076dd2",
   "metadata": {},
   "source": [
    "Também conhecida como busca linear, a pesquisa sequencial é bastante intuitiva. Imagine que você tem uma lista de elementos (pode ser um vetor, uma lista ou qualquer outra estrutura de dados). Para encontrar um valor específico, você começa do início da lista e verifica cada elemento sequencialmente até encontrar o que está procurando.\n",
    "O processo é como folhear um livro página por página até encontrar a informação desejada."
   ]
  },
  {
   "cell_type": "markdown",
   "id": "17979ea4",
   "metadata": {},
   "source": [
    "Aqui estão os passos básicos da pesquisa sequencial:\n",
    "1. Comece no primeiro elemento da lista.\n",
    "2. Compare o valor desse elemento com o valor que você está buscando.\n",
    "3. Se forem iguais, você encontrou o elemento desejado e pode parar.\n",
    "4. Caso contrário, vá para o próximo elemento e repita o passo 2.\n",
    "5. Continue até percorrer toda a lista ou encontrar o valor desejado.\n",
    "\n",
    "A pesquisa sequencial é adequada para pequenas coleções de dados ou quando a lista não está necessariamente ordenada.\n",
    "\n",
    "No entanto, ela não é muito eficiente para grandes conjuntos de dados, pois requer que você verifique cada elemento individualmente.\n",
    "\n",
    "Em termos de complexidade, a pesquisa sequencial tem uma complexidade de tempo linear (O(n)), onde “n” é o tamanho da lista."
   ]
  },
  {
   "cell_type": "code",
   "execution_count": 2,
   "id": "4352e87f",
   "metadata": {},
   "outputs": [
    {
     "data": {
      "text/plain": [
       "10"
      ]
     },
     "execution_count": 2,
     "metadata": {},
     "output_type": "execute_result"
    }
   ],
   "source": [
    "def tamanho_lista(A): #Função que retorna o tamanha da lista/vetor. Mesma funcionalidade do len().\n",
    "    c = 0\n",
    "    for i in A:\n",
    "        c += 1\n",
    "    return c\n",
    "    \n",
    "tamanho_lista([1,2,3,4,5,6,7,8,9,10])"
   ]
  },
  {
   "cell_type": "code",
   "execution_count": 9,
   "id": "ac6ee719",
   "metadata": {},
   "outputs": [],
   "source": [
    "def busca_sequencial (A, chave):\n",
    "    for i in range(tamanho_lista(A)):\n",
    "        if(A[i] == chave):\n",
    "            return f\"O valor {A[i]} está na posição {i+1}\"\n",
    "    return \"chave não encontrada\""
   ]
  },
  {
   "cell_type": "code",
   "execution_count": 11,
   "id": "c57d3358",
   "metadata": {},
   "outputs": [
    {
     "name": "stdout",
     "output_type": "stream",
     "text": [
      "O valor 9 está na posição 9\n"
     ]
    }
   ],
   "source": [
    "pesquisa1 = busca_sequencial([1,2,3,4,5,6,7,8,9,10], 9)\n",
    "print(pesquisa1)"
   ]
  },
  {
   "cell_type": "markdown",
   "id": "9d9e82ef",
   "metadata": {},
   "source": [
    "### Pesquisa Binária:"
   ]
  },
  {
   "cell_type": "markdown",
   "id": "758e5aba",
   "metadata": {},
   "source": [
    "A busca binária é um algoritmo eficiente para encontrar um elemento específico em uma coleção ordenada, como um vetor ou uma lista.\n",
    "\n",
    "Como Funciona:\n",
    "- A busca binária é baseada no princípio da divisão e conquista. Ela reduz o espaço de busca pela metade a cada comparação.\n",
    "- Imagine que você tem uma lista ordenada (ou um vetor) e deseja encontrar um valor específico.\n",
    "- O processo é semelhante a adivinhar um número em um jogo de “maior ou menor”."
   ]
  },
  {
   "cell_type": "markdown",
   "id": "a4c9c9d3",
   "metadata": {},
   "source": [
    "Aqui estão os passos básicos:\n",
    "1. Comece verificando o elemento do meio da lista.\n",
    "2. Compare esse elemento com o valor que você está buscando.\n",
    "3. Se forem iguais, você encontrou o elemento desejado e pode parar.\n",
    "4. Caso contrário:\n",
    "- Se o elemento do meio for maior que o valor buscado, descarte a metade superior da lista.\n",
    "- Se for menor, descarte a metade inferior.\n",
    "5. Repita os passos 1 a 4 até encontrar o valor desejado ou até que a lista seja reduzida a zero.\n",
    "\n",
    "A busca binária é incrivelmente eficiente porque a cada etapa, você elimina metade dos elementos possíveis."
   ]
  },
  {
   "cell_type": "markdown",
   "id": "d9459cc3",
   "metadata": {},
   "source": [
    "**Complexidade:**\n",
    "\n",
    "A complexidade de tempo da busca binária é **O(log n)**, onde “n” é o tamanho da lista. Isso significa que, mesmo para listas muito grandes, o número de comparações necessárias cresce de forma muito mais lenta do que o tamanho da lista.\n",
    "\n",
    "**Quando Usar:**\n",
    "\n",
    "A busca binária é ideal para coleções ordenadas, como índices de bancos de dados, listas de palavras em dicionários etc. \n",
    "\n",
    "*No entanto, ela só funciona se a lista estiver ordenada.*"
   ]
  },
  {
   "cell_type": "code",
   "execution_count": null,
   "id": "6ab6718d",
   "metadata": {},
   "outputs": [],
   "source": [
    "def busca_binaria(A, chave):\n",
    "    esquerda = 0\n",
    "    direita = tamanho_lista(A) - 1\n",
    "    while(esquerda <= direita):\n",
    "        meio = int((esquerda + direita)/2)\n",
    "        if A[meio] == chave:\n",
    "            return f\"O valor {A[meio]} está na posição {meio+1}\"\n",
    "        elif A[meio] < chave:\n",
    "            esquerda = meio + 1\n",
    "            else:\n",
    "                direita = meio - 1\n",
    "    return \"chave não encontrada\""
   ]
  }
 ],
 "metadata": {
  "kernelspec": {
   "display_name": "Python 3 (ipykernel)",
   "language": "python",
   "name": "python3"
  },
  "language_info": {
   "codemirror_mode": {
    "name": "ipython",
    "version": 3
   },
   "file_extension": ".py",
   "mimetype": "text/x-python",
   "name": "python",
   "nbconvert_exporter": "python",
   "pygments_lexer": "ipython3",
   "version": "3.11.5"
  }
 },
 "nbformat": 4,
 "nbformat_minor": 5
}
