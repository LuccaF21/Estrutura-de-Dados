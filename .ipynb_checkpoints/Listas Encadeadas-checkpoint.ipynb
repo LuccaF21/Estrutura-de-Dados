{
 "cells": [
  {
   "cell_type": "markdown",
   "id": "ab75c74d",
   "metadata": {},
   "source": [
    "**Listas Estáticas:**\n",
    "- Também conhecidas como listas sequenciais.\n",
    "- Armazenam elementos em posições consecutivas na memória.\n",
    "- Utilizam vetores (ou arrays) para representar os elementos.\n",
    "- Têm um tamanho fixo definido em tempo de compilação.\n",
    "- Inserção e remoção de elementos podem ser ineficientes, pois exigem deslocamentos.\n",
    "- Exemplos de linguagens que suportam listas estáticas incluem C e C++.\n",
    "\n",
    "\n",
    "**Listas Dinâmicas:**\n",
    "- Também chamadas de listas ligadas.\n",
    "- Os elementos são encadeados por ponteiros.\n",
    "- Não possuem tamanho fixo; crescem ou diminuem conforme necessário durante a execução do programa.\n",
    "- Inserção e remoção de elementos são mais eficientes (geralmente em tempo constante).\n",
    "- Acesso aleatório é menos eficiente, pois requer percorrer a lista.\n",
    "- Exemplos de linguagens que suportam listas dinâmicas incluem C++, Java e Python."
   ]
  },
  {
   "cell_type": "markdown",
   "id": "fea77037",
   "metadata": {},
   "source": [
    "Imagine que você tem uma lista de tarefas pendentes. Cada tarefa está escrita em um pedaço de papel e, além do conteúdo da tarefa, você também anota o endereço da próxima tarefa na parte de trás do papel. Essa é a ideia por trás das listas encadeadas.\n",
    "\n",
    "Aqui estão os pontos-chave:\n",
    "\n",
    "1. Células ou Nós:\n",
    "Uma lista encadeada é composta por células (também chamadas de nós).\n",
    "Cada célula contém dois elementos:\n",
    "- Valor: O dado que queremos armazenar (por exemplo, um número inteiro).\n",
    "- Ponteiro: Uma referência para a próxima célula na lista.\n",
    "2. Encadeamento:\n",
    "As células são conectadas em sequência através dos ponteiros.\n",
    "A última célula aponta para NULL, indicando o final da lista.\n",
    "3. Cabeça da Lista:\n",
    "A primeira célula da lista é chamada de “cabeça”.\n",
    "A partir da cabeça, podemos percorrer toda a lista seguindo os ponteiros.\n",
    "4. Vantagens:\n",
    "Inserção e remoção de elementos são eficientes (geralmente em tempo constante).\n",
    "Não requer espaço contíguo na memória (ao contrário de um array).\n",
    "5. Desvantagens:\n",
    "Acesso aleatório é menos eficiente (não podemos acessar diretamente o elemento na posição i como em um array).\n",
    "Requer mais memória (devido aos ponteiros).\n",
    "Para visualizar melhor, pense em uma corrente de elos, onde cada elo é uma célula e os elos estão conectados. Quando você quer adicionar ou remover um elo, basta ajustar as conexões."
   ]
  },
  {
   "cell_type": "markdown",
   "id": "b16637d9",
   "metadata": {},
   "source": [
    "Uma lista simplesmente encadeada contendo o nome, a nota e a turma de um estudante pode ser declarada da seguinte forma:"
   ]
  },
  {
   "cell_type": "code",
   "execution_count": null,
   "id": "900b9caa",
   "metadata": {},
   "outputs": [],
   "source": [
    "class Nodo:\n",
    "    def __init__(self):\n",
    "        self.dado = Aluno()\n",
    "        self.prox = None\n",
    "\n",
    "class Aluno:\n",
    "    def __init__(self):\n",
    "        self.nome = \"\"\n",
    "        self.nota = 0.0\n",
    "        self.turma = 0"
   ]
  },
  {
   "cell_type": "markdown",
   "id": "78322f69",
   "metadata": {},
   "source": [
    "**O exemplo a seguir insere o novo elemento na primeira posição da lista.**"
   ]
  },
  {
   "cell_type": "code",
   "execution_count": null,
   "id": "8a99cbe9",
   "metadata": {},
   "outputs": [],
   "source": [
    "# Criando o primeiro nó\n",
    "primeiro_nodo = Nodo()\n",
    "primeiro_nodo.dado.nome = \"Maurício\"\n",
    "primeiro_nodo.dado.nota = 9.5\n",
    "primeiro_nodo.prox = None\n",
    "\n",
    "print(\"\\nCRIANDO PRIMEIRO NODO:\\n\")\n",
    "print(f\"Endereço: {primeiro_nodo}\")\n",
    "print(f\"Nome: {primeiro_nodo.dado.nome}\")\n",
    "print(f\"Nota: {primeiro_nodo.dado.nota}\")\n",
    "print(f\"Próximo do primeiro: {primeiro_nodo.prox}\\n\")\n",
    "\n",
    "# Criando um novo nó\n",
    "novo_nodo = Nodo()\n",
    "novo_nodo.dado.nome = \"Lucca\"\n",
    "novo_nodo.dado.nota = 10.0\n",
    "novo_nodo.prox = primeiro_nodo # O novo nó será o primeiro, então seu campo 'prox' é o endereço do primeiro.\n",
    "primeiro_nodo = novo_nodo\n",
    "\n",
    "segundo_nodo = primeiro_nodo.prox\n",
    "\n",
    "print(\"CRIANDO O NOVO NODO (inserindo na primeira posição):\\n\")\n",
    "print(f\"Endereço do novo: {novo_nodo}\")\n",
    "print(f\"Nome do novo: {novo_nodo.dado.nome}\")\n",
    "print(f\"Nota: {novo_nodo.dado.nota}\")\n",
    "print(f\"Próximo do novo criado: {novo_nodo.prox}\")\n",
    "\n",
    "print(\"\\n----------------------------------------------------\\n\")\n",
    "print(\"Nome do primeiro aluno:\", primeiro_nodo.dado.nome)\n",
    "print(\"Nota do primeiro aluno:\", primeiro_nodo.dado.nota)\n",
    "print(\"Endereço do primeiro aluno:\", primeiro_nodo)\n",
    "print(f\"Próximo do primeiro: {primeiro_nodo.prox}\\n\")\n",
    "\n",
    "segundo_nodo = primeiro_nodo.prox\n",
    "print(\"Nome do segundo aluno:\", segundo_nodo.dado.nome)\n",
    "print(\"Nota do segundo aluno:\", segundo_nodo.dado.nota)\n",
    "print(\"Endereço do segundo aluno:\", segundo_nodo)\n",
    "print(\"Endereço do segundo aluno:\", segundo_nodo.prox)"
   ]
  },
  {
   "cell_type": "markdown",
   "id": "7a05efac",
   "metadata": {},
   "source": [
    "**Agora o exemplo a seguir insere um novo elemento ao final da lista encadeada.**"
   ]
  },
  {
   "cell_type": "code",
   "execution_count": null,
   "id": "8250723b",
   "metadata": {},
   "outputs": [],
   "source": [
    "# Criando o primeiro nó\n",
    "primeiro_nodo = Nodo()\n",
    "primeiro_nodo.dado.nome = \"Maurício\"\n",
    "primeiro_nodo.dado.nota = 9.5\n",
    "primeiro_nodo.prox = None\n",
    "\n",
    "print(\"\\nCRIANDO PRIMEIRO NODO:\\n\")\n",
    "print(f\"Endereço: {primeiro_nodo}\")\n",
    "print(f\"Nome: {primeiro_nodo.dado.nome}\")\n",
    "print(f\"Nota: {primeiro_nodo.dado.nota}\")\n",
    "print(f\"Próximo do primeiro da lista: {primeiro_nodo.prox}\\n\")\n",
    "\n",
    "# Criando um novo nó\n",
    "novo_nodo = Nodo()\n",
    "novo_nodo.dado.nome = \"Lucca\"\n",
    "novo_nodo.dado.nota = 10.0\n",
    "novo_nodo.prox = None  # O novo nó será o último, então seu campo 'prox' é None\n",
    "\n",
    "# Encontrando o último nó na lista\n",
    "no = primeiro_nodo\n",
    "while no.prox is not None:\n",
    "    no = no.prox\n",
    "\n",
    "# Agora 'no' aponta para o último nó existente na lista\n",
    "# Vamos adicionar o novo nó ao final\n",
    "no.prox = novo_nodo\n",
    "\n",
    "segundo_nodo = primeiro_nodo.prox\n",
    "\n",
    "print(\"CRIANDO O NOVO NODO (inserindo na última posição):\\n\")\n",
    "print(f\"Endereço do novo: {novo_nodo}\")\n",
    "print(f\"Nome do novo: {novo_nodo.dado.nome}\")\n",
    "print(f\"Nota: {novo_nodo.dado.nota}\")\n",
    "print(f\"Próximo do novo criado: {novo_nodo.prox}\")\n",
    "\n",
    "print(\"\\n----------------------------------------------------\\n\")\n",
    "print(\"Nome do primeiro aluno:\", primeiro_nodo.dado.nome)\n",
    "print(\"Nota do primeiro aluno:\", primeiro_nodo.dado.nota)\n",
    "print(\"Endereço do primeiro aluno:\", primeiro_nodo)\n",
    "print(f\"Próximo do primeiro: {primeiro_nodo.prox}\\n\")\n",
    "\n",
    "\n",
    "print(\"Nome do segundo aluno:\", segundo_nodo.dado.nome)\n",
    "print(\"Nota do segundo aluno:\", segundo_nodo.dado.nota)\n",
    "print(\"Endereço do segundo aluno:\", segundo_nodo)\n",
    "print(\"Endereço do segundo aluno:\", segundo_nodo.prox)"
   ]
  },
  {
   "cell_type": "markdown",
   "id": "3281e018",
   "metadata": {},
   "source": [
    "### Implementação de uma Lista Encadeada Dupla"
   ]
  },
  {
   "cell_type": "markdown",
   "id": "384af79e",
   "metadata": {},
   "source": [
    "Esse programa implementa uma estrutura de dados duplamente encadeada para gerenciar uma lista de alunos. Vamos explicar detalhadamente o que cada parte faz:"
   ]
  },
  {
   "cell_type": "code",
   "execution_count": null,
   "id": "5c4dfcbb",
   "metadata": {},
   "outputs": [],
   "source": [
    "class Aluno:\n",
    "    def __init__(self, nome, nota, turma):\n",
    "        self.nome = nome\n",
    "        self.nota = nota\n",
    "        self.turma = turma\n",
    "\n",
    "class Nodo:\n",
    "    def __init__(self, dado):\n",
    "        self.dado = dado\n",
    "        self.ant = None\n",
    "        self.prox = None\n",
    "\n",
    "class Descritor:\n",
    "    def __init__(self):\n",
    "        self.n = 0\n",
    "        self.prim = None\n",
    "        self.ult = None"
   ]
  },
  {
   "cell_type": "markdown",
   "id": "f0f7160c",
   "metadata": {},
   "source": [
    "Classes e Estruturas de Dados\n",
    "1. Classe Aluno:\n",
    "- Define um objeto Aluno com atributos nome, nota e turma.\n",
    "2. Classe Nodo:\n",
    "- Define um nó para a lista duplamente encadeada. Cada nó contém um atributo dado e referências para o próximo (prox) e o anterior (ant) nós na lista.\n",
    "3. Classe Descritor:\n",
    "- Define um descritor para a lista duplamente encadeada. Mantém o tamanho da lista (n), e referências para o primeiro (prim) e último (ult) nós da lista."
   ]
  },
  {
   "cell_type": "code",
   "execution_count": null,
   "id": "e5b9c6bd",
   "metadata": {},
   "outputs": [],
   "source": [
    "# Criando a lista e os alunos\n",
    "L = Nodo(dado=None)\n",
    "D = Descritor()\n",
    "\n",
    "aluno1 = Aluno(nome=\"Aline\", nota=8.5, turma=1)\n",
    "aluno2 = Aluno(nome=\"Lucca\", nota=9.5, turma=1)\n",
    "aluno3 = Aluno(nome=\"Ramon\", nota=10, turma=1)"
   ]
  },
  {
   "cell_type": "code",
   "execution_count": null,
   "id": "27019cf8",
   "metadata": {},
   "outputs": [],
   "source": [
    "def iniciar(L, D):\n",
    "    L.ant = None\n",
    "    L.prox = None\n",
    "\n",
    "    D.n = 0\n",
    "    D.prim = None\n",
    "    D.ult = None"
   ]
  },
  {
   "cell_type": "markdown",
   "id": "ddbba572",
   "metadata": {},
   "source": [
    "Utilização\n",
    "- Instâncias de Aluno (aluno1, aluno2, aluno3):\n",
    "\n",
    "São instâncias da classe Aluno com dados específicos de nome, nota e turma.\n",
    "- Inicialização (iniciar(L, D)):\n",
    "\n",
    "Prepara a estrutura de dados para uso, garantindo que a lista e o descritor estejam vazios e prontos para operações.\n",
    "\n",
    "Nesse trecho de código Python, a função iniciar recebe como argumentos um nó L (que representa um elemento da lista encadeada) e um descritor D (que mantém informações sobre a lista). A função inicializa os campos ant e prox do nó L como None, e também zera o contador n e as referências para o primeiro e último elementos da lista no descritor D"
   ]
  },
  {
   "cell_type": "code",
   "execution_count": null,
   "id": "830bb87c",
   "metadata": {},
   "outputs": [],
   "source": [
    "def esta_vazia(D):\n",
    "    if D.n == 0:\n",
    "        return 1\n",
    "    else:\n",
    "        return 0"
   ]
  },
  {
   "cell_type": "code",
   "execution_count": null,
   "id": "28d6fe14",
   "metadata": {},
   "outputs": [],
   "source": [
    "def primeiro_elemento(D):\n",
    "    no = D.prim\n",
    "    return no.dado\n",
    "\n",
    "def ultimo_elemento(D):\n",
    "    no = D.ult\n",
    "    return no.dado"
   ]
  },
  {
   "cell_type": "markdown",
   "id": "f86ffe8f",
   "metadata": {},
   "source": [
    "Funções\n",
    "- esta_vazia(D):\n",
    "\n",
    "Verifica se a lista está vazia com base no contador n do descritor.\n",
    "- primeiro_elemento(D):\n",
    "\n",
    "Retorna o dado do primeiro nó da lista.\n",
    "- ultimo_elemento(D):\n",
    "\n",
    "Retorna o dado do último nó da lista."
   ]
  },
  {
   "cell_type": "code",
   "execution_count": null,
   "id": "4640c270",
   "metadata": {},
   "outputs": [],
   "source": [
    "def inserir_inicio(L, D, dado):\n",
    "    novo = Nodo(dado=dado)\n",
    "\n",
    "    novo.dado.nome = dado.nome\n",
    "    novo.dado.turma = dado.turma\n",
    "    novo.dado.nota = dado.nota\n",
    "\n",
    "    if esta_vazia(D):\n",
    "        L.prox = novo\n",
    "        novo.prox = None\n",
    "        D.ult = novo\n",
    "    else:\n",
    "        primeiro = L.prox\n",
    "        L.prox = novo\n",
    "        novo.prox = primeiro\n",
    "        primeiro.ant = novo\n",
    "\n",
    "    D.n += 1\n",
    "    D.prim = novo\n",
    "    novo.ant = None"
   ]
  },
  {
   "cell_type": "markdown",
   "id": "6b7d5a51",
   "metadata": {},
   "source": [
    "Inserção (inserir_inicio(L, D, dado)):\n",
    "- Permite adicionar novos alunos no início da lista duplamente encadeada, mantendo a integridade da estrutura.\n",
    "\n",
    "inserir_inicio(L, D, dado):\n",
    "\n",
    "- Insere um novo aluno no início da lista encadeada.\n",
    "- Cria um novo nó com os dados do aluno.\n",
    "- Se a lista estiver vazia, o novo nó se torna o primeiro e o último.\n",
    "- Caso contrário, insere o novo nó antes do primeiro nó atual, ajustando as referências prox e ant corretamente.\n",
    "- Atualiza o contador n, ajusta prim para o novo nó e define ant do novo nó como None."
   ]
  },
  {
   "cell_type": "code",
   "execution_count": null,
   "id": "497395c1",
   "metadata": {},
   "outputs": [],
   "source": [
    "# Adicionando os alunos\n",
    "inserir_inicio(L, D, aluno1)\n",
    "inserir_inicio(L, D, aluno2)\n",
    "inserir_inicio(L, D, aluno3)"
   ]
  },
  {
   "cell_type": "code",
   "execution_count": null,
   "id": "4eb5d9f6",
   "metadata": {},
   "outputs": [],
   "source": [
    "# Verificando o primeiro e último elemento da lista\n",
    "print(\"Primeiro aluno:\", primeiro_elemento(D).nome)\n",
    "print(\"Último aluno:\", ultimo_elemento(D).nome)"
   ]
  },
  {
   "cell_type": "code",
   "execution_count": null,
   "id": "3cf02c85",
   "metadata": {},
   "outputs": [],
   "source": [
    "# Verificando o tamanho da lista\n",
    "print(\"Tamanho da lista:\", D.n)"
   ]
  }
 ],
 "metadata": {
  "kernelspec": {
   "display_name": "Python 3 (ipykernel)",
   "language": "python",
   "name": "python3"
  },
  "language_info": {
   "codemirror_mode": {
    "name": "ipython",
    "version": 3
   },
   "file_extension": ".py",
   "mimetype": "text/x-python",
   "name": "python",
   "nbconvert_exporter": "python",
   "pygments_lexer": "ipython3",
   "version": "3.11.5"
  }
 },
 "nbformat": 4,
 "nbformat_minor": 5
}
